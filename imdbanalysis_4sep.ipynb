{
  "nbformat": 4,
  "nbformat_minor": 0,
  "metadata": {
    "colab": {
      "name": "imdbanalysis_4sep.ipynb",
      "provenance": [],
      "authorship_tag": "ABX9TyNzd25tUOv2/tniRERh6kiw",
      "include_colab_link": true
    },
    "kernelspec": {
      "name": "python3",
      "display_name": "Python 3"
    },
    "language_info": {
      "name": "python"
    },
    "accelerator": "GPU"
  },
  "cells": [
    {
      "cell_type": "markdown",
      "metadata": {
        "id": "view-in-github",
        "colab_type": "text"
      },
      "source": [
        "<a href=\"https://colab.research.google.com/github/ashwinperti/movie_review1/blob/main/imdbanalysis_4sep.ipynb\" target=\"_parent\"><img src=\"https://colab.research.google.com/assets/colab-badge.svg\" alt=\"Open In Colab\"/></a>"
      ]
    },
    {
      "cell_type": "code",
      "metadata": {
        "id": "EHHNe7pwn0sy"
      },
      "source": [
        "from textblob import TextBlob\n",
        "import nltk\n",
        "from nltk import sent_tokenize,word_tokenize, WordPunctTokenizer\n",
        "import pandas as pd\n",
        "\n",
        "print('-----IMDB data analysis--------')\n",
        "dt = pd.read_csv('IMDB.csv')\n",
        "[r , c ] = dt.shape\n",
        "print('shape of IMDB file ',dt.shape)\n",
        "print('IMDB info     :')\n",
        "print(dt.info())\n",
        "txt = dt.iloc[:,0]\n",
        "lbl = dt.iloc[:,1]\n",
        "print(txt.head())\n",
        "\n",
        "print('----- Tokenization of IMDB data-------- ')\n",
        "lst = list(txt.values.flatten())\n",
        "lbl = list(lbl.values.flatten())\n",
        "print('No    sentiment   tokenized words in each review')\n",
        "for k in range(100):\n",
        "    words = nltk.word_tokenize(lst[k])\n",
        "    new_words= [word for word in words if word.isalnum()]\n",
        "    print(k , ' : ',lbl[k],new_words)\n",
        "#print(\"\\nWord punct tokenizer:\")\n",
        "#print(WordPunctTokenizer().tokenize(txt))"
      ],
      "execution_count": null,
      "outputs": []
    }
  ]
}